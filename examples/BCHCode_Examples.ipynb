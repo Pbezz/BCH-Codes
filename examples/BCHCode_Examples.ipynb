{
 "cells": [
  {
   "cell_type": "markdown",
   "id": "f2b6fb56",
   "metadata": {},
   "source": [
    "# Testing the BCHCode class\n",
    "\n",
    "For a detailed overview of the implementation, see Section 5 of the Report."
   ]
  },
  {
   "cell_type": "code",
   "execution_count": 1,
   "id": "fcd540c1-632b-4069-864e-d496050fc5eb",
   "metadata": {},
   "outputs": [],
   "source": [
    "import sys\n",
    "sys.path.append(\"../src\")\n",
    "from BCHCode import BCHCode\n",
    "import random\n",
    "import copy"
   ]
  },
  {
   "cell_type": "code",
   "execution_count": null,
   "id": "63dd8c6f-4cc5-4f6c-a155-405846366507",
   "metadata": {},
   "outputs": [],
   "source": [
    "bch = BCHCode(2,15,7,1)\n",
    "message = [1,0,1,1,0]\n",
    "code = bch.encode(message)\n",
    "code"
   ]
  },
  {
   "cell_type": "code",
   "execution_count": null,
   "id": "015e9f98-31da-4c99-8ad2-d55a3b0ee4a2",
   "metadata": {},
   "outputs": [],
   "source": [
    "mistakes = [1,3,4]\n",
    "for i in mistakes:\n",
    "    code[i] = 1 if code[i]==0 else 0 \n",
    "print(\"Codeword with errors:\",code)\n",
    "decoded = bch.decode(code)\n",
    "print(\"Decoded message: \",decoded)\n",
    "print(\"Original message:\",message)"
   ]
  },
  {
   "cell_type": "markdown",
   "id": "af6cd25d",
   "metadata": {},
   "source": [
    "## Auxiliary testing functions"
   ]
  },
  {
   "cell_type": "code",
   "execution_count": 4,
   "id": "53854cfa-b45e-4c10-976c-ef38d789f511",
   "metadata": {},
   "outputs": [],
   "source": [
    "def f(c):\n",
    "    if c==' ':\n",
    "        return 0\n",
    "    elif c=='.':\n",
    "        return 27\n",
    "    elif c==',':\n",
    "        return 28\n",
    "    elif c=='?':\n",
    "        return 29\n",
    "    elif c=='!':\n",
    "        return 30\n",
    "    else:\n",
    "        return ord(c)-64\n",
    "\n",
    "def fInv(i):\n",
    "    if i==0:\n",
    "        return ' '\n",
    "    elif i==27:\n",
    "        return '.'\n",
    "    elif i==28:\n",
    "        return ','\n",
    "    elif i==29:\n",
    "        return '?'\n",
    "    elif i==30:\n",
    "        return '!'\n",
    "    else:\n",
    "        return chr(i+64)\n",
    "        \n",
    "def englishToCode(message):\n",
    "    return [f(c)for c in message]\n",
    "\n",
    "def codeToEnglish(code):\n",
    "    return ''.join([fInv(i) for i in code])\n",
    "\n",
    "def testBCH(bch, message, english= False):\n",
    "    if english:\n",
    "        assert(bch.q==31), \"For english text to work, we need to be working over q=31.\"\n",
    "        length = len(message)\n",
    "        message = englishToCode(message)\n",
    "    code = bch.encode(message)\n",
    "    number_of_errors = random.randint(1, bch.t) \n",
    "    if english:\n",
    "        assert(number_of_errors<=length), \"There are more errors than characters in the message, please choose a longer message.\"\n",
    "        error_pos = random.sample(range(length), number_of_errors)\n",
    "    else:\n",
    "        error_pos = random.sample(range(bch.n), number_of_errors)\n",
    "    error_value = [random.randint(1,bch.q-1) for _ in range(number_of_errors)]\n",
    "    if number_of_errors==1:\n",
    "        print(number_of_errors, \"error was introduced at position\", error_pos, \"with value\", error_value)\n",
    "    else:\n",
    "        print(number_of_errors, \"errors were introduced at positions\", error_pos, \"with values\", error_value)\n",
    "\n",
    "    bad_code = copy.deepcopy(code)\n",
    "    for i in range(number_of_errors):\n",
    "        bad_code[error_pos[i]]= (bad_code[error_pos[i]]+error_value[i])%bch.q\n",
    "    if english:\n",
    "        print(\"Broken message:\", codeToEnglish(bad_code)[:length])\n",
    "    print(\"Decoding logs {\")\n",
    "    decoded = bch.decode(bad_code)\n",
    "    if english:\n",
    "        print(\"}\\nDecoded message: \",codeToEnglish(decoded)[:length])\n",
    "    else:\n",
    "        print(\"}\\nDecoded message: \",decoded)\n"
   ]
  },
  {
   "cell_type": "code",
   "execution_count": null,
   "id": "5b75de62-5043-4b5e-a8cf-a8bdf5eaeab8",
   "metadata": {},
   "outputs": [],
   "source": [
    "bch = BCHCode(2,15,5,1)\n",
    "testBCH(bch,[1,0,1,1,1,0,1])"
   ]
  },
  {
   "cell_type": "code",
   "execution_count": null,
   "id": "d6f431dc-82f1-40f4-9975-78e78afd2e61",
   "metadata": {},
   "outputs": [],
   "source": [
    "bch = BCHCode(2,127,37,1)\n",
    "testBCH(bch,[1,1,1,1,1,1,1,1,1,0,0,0,0,0,0,0,0,1,1,1,1,1])"
   ]
  },
  {
   "cell_type": "code",
   "execution_count": null,
   "id": "42a60082-b201-452b-a7eb-63b71e44cce2",
   "metadata": {},
   "outputs": [],
   "source": [
    "bch = BCHCode(5,24,7,1)\n",
    "testBCH(bch,[3,1,4,1,2,0,2,2,4,1,1,1,3,2,4])"
   ]
  },
  {
   "cell_type": "code",
   "execution_count": null,
   "id": "f09398a4-718c-4924-919e-df53e463f9f7",
   "metadata": {},
   "outputs": [],
   "source": [
    "bch = BCHCode(13,168,51,1)\n",
    "testBCH(bch,[1,2,2,3,3,3,4,4,4,4,5,5,5,5,5,6,6,6,6,6,6,7,7,7,7,7,7,7,8,8,8,8,8,8,8,8,9,9,9,9,9,9,9,9,9])"
   ]
  },
  {
   "cell_type": "code",
   "execution_count": 9,
   "id": "0320d6f5-9307-4f55-a801-dc5f8f5dbb0d",
   "metadata": {},
   "outputs": [],
   "source": [
    "bch = BCHCode(31,960, 51, 1)"
   ]
  },
  {
   "cell_type": "code",
   "execution_count": null,
   "id": "8a005c3e-1abe-494f-bc07-0e82a96580fc",
   "metadata": {},
   "outputs": [],
   "source": [
    "testBCH(bch, \"WHAT SHOULD MY FIRST MESSAGE BE, THEN? I HAVE NO IDEA ... HOW ABOUT HELLO WORLD!\", True)"
   ]
  },
  {
   "cell_type": "code",
   "execution_count": null,
   "id": "dd3a59a0-d986-487b-a5ba-859e612bc665",
   "metadata": {},
   "outputs": [],
   "source": [
    "testBCH(bch, \"THERE IS NO WAY THIS CODE CAN ACTUALLY CORRECT UP TO TWENTY FIVE ERRORS!! SURELY AFTER, SAY, THREE ERRORS IT WILL BREAK?\", True)"
   ]
  }
 ],
 "metadata": {
  "kernelspec": {
   "display_name": "base",
   "language": "python",
   "name": "python3"
  },
  "language_info": {
   "codemirror_mode": {
    "name": "ipython",
    "version": 3
   },
   "file_extension": ".py",
   "mimetype": "text/x-python",
   "name": "python",
   "nbconvert_exporter": "python",
   "pygments_lexer": "ipython3",
   "version": "3.12.7"
  }
 },
 "nbformat": 4,
 "nbformat_minor": 5
}
